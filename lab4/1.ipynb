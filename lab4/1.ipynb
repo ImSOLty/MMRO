{
 "cells": [
  {
   "cell_type": "markdown",
   "source": [
    "# Задача прогнозирования цены на недвижимость"
   ],
   "metadata": {
    "collapsed": false
   },
   "id": "9913681e108a2ab9"
  },
  {
   "cell_type": "code",
   "outputs": [],
   "source": [
    "# To support both python 2 and python 3\n",
    "from __future__ import division, print_function, unicode_literals\n",
    "\n",
    "# Common imports\n",
    "import numpy as np\n",
    "import os\n",
    "\n",
    "# to make this notebook's output stable across runs\n",
    "np.random.seed(42)\n",
    "\n",
    "# To plot pretty figures\n",
    "%matplotlib inline\n",
    "import matplotlib\n",
    "import matplotlib.pyplot as plt\n",
    "\n",
    "plt.rcParams['axes.labelsize'] = 14\n",
    "plt.rcParams['xtick.labelsize'] = 12\n",
    "plt.rcParams['ytick.labelsize'] = 12\n",
    "\n",
    "# Ignore useless warnings (see SciPy issue #5998)\n",
    "import warnings\n",
    "\n",
    "warnings.filterwarnings(action=\"ignore\", module=\"scipy\", message=\"^internal gelsd\")"
   ],
   "metadata": {
    "collapsed": false,
    "ExecuteTime": {
     "end_time": "2024-05-12T16:27:52.440094200Z",
     "start_time": "2024-05-12T16:27:52.121170400Z"
    }
   },
   "id": "1cfaaa07d29b09aa",
   "execution_count": 1
  },
  {
   "cell_type": "markdown",
   "source": [
    "## Загрузка исходных данных"
   ],
   "metadata": {
    "collapsed": false
   },
   "id": "912de66d2f06ffbd"
  },
  {
   "cell_type": "code",
   "outputs": [],
   "source": [
    "import os\n",
    "import tarfile\n",
    "from six.moves import urllib\n",
    "\n",
    "DOWNLOAD_ROOT = \"https://raw.githubusercontent.com/ageron/handson-ml/master/\"\n",
    "HOUSING_PATH = os.path.join(\"datasets\", \"housing\")\n",
    "HOUSING_URL = DOWNLOAD_ROOT + \"datasets/housing/housing.tgz\"\n",
    "\n",
    "\n",
    "def fetch_housing_data(housing_url=HOUSING_URL, housing_path=HOUSING_PATH):\n",
    "    if not os.path.isdir(housing_path):\n",
    "        os.makedirs(housing_path)\n",
    "    tgz_path = os.path.join(housing_path, \"housing.tgz\")\n",
    "    urllib.request.urlretrieve(housing_url, tgz_path)\n",
    "    housing_tgz = tarfile.open(tgz_path)\n",
    "    housing_tgz.extractall(path=housing_path)\n",
    "    housing_tgz.close()"
   ],
   "metadata": {
    "collapsed": false,
    "ExecuteTime": {
     "end_time": "2024-05-12T16:27:52.453782500Z",
     "start_time": "2024-05-12T16:27:52.442047100Z"
    }
   },
   "id": "b02bef290a392ad",
   "execution_count": 2
  },
  {
   "cell_type": "code",
   "outputs": [],
   "source": [
    "fetch_housing_data()"
   ],
   "metadata": {
    "collapsed": false,
    "ExecuteTime": {
     "end_time": "2024-05-12T16:27:53.060887800Z",
     "start_time": "2024-05-12T16:27:52.448882900Z"
    }
   },
   "id": "36c28ad322fb1f21",
   "execution_count": 3
  },
  {
   "cell_type": "markdown",
   "source": [
    "## Импорт исходных данных"
   ],
   "metadata": {
    "collapsed": false
   },
   "id": "78154d23a1380cb0"
  },
  {
   "cell_type": "code",
   "outputs": [],
   "source": [
    "import pandas as pd\n",
    "\n",
    "\n",
    "def load_housing_data(housing_path=HOUSING_PATH):\n",
    "    csv_path = os.path.join(housing_path, \"housing.csv\")\n",
    "    return pd.read_csv(csv_path)"
   ],
   "metadata": {
    "collapsed": false,
    "ExecuteTime": {
     "end_time": "2024-05-12T16:27:53.262060Z",
     "start_time": "2024-05-12T16:27:53.062850600Z"
    }
   },
   "id": "b9c83875aadae438",
   "execution_count": 4
  },
  {
   "cell_type": "code",
   "outputs": [
    {
     "data": {
      "text/plain": "          longitude      latitude  housing_median_age   total_rooms  \\\ncount  20640.000000  20640.000000        20640.000000  20640.000000   \nmean    -119.569704     35.631861           28.639486   2635.763081   \nstd        2.003532      2.135952           12.585558   2181.615252   \nmin     -124.350000     32.540000            1.000000      2.000000   \n25%     -121.800000     33.930000           18.000000   1447.750000   \n50%     -118.490000     34.260000           29.000000   2127.000000   \n75%     -118.010000     37.710000           37.000000   3148.000000   \nmax     -114.310000     41.950000           52.000000  39320.000000   \n\n       total_bedrooms    population    households  median_income  \\\ncount    20433.000000  20640.000000  20640.000000   20640.000000   \nmean       537.870553   1425.476744    499.539680       3.870671   \nstd        421.385070   1132.462122    382.329753       1.899822   \nmin          1.000000      3.000000      1.000000       0.499900   \n25%        296.000000    787.000000    280.000000       2.563400   \n50%        435.000000   1166.000000    409.000000       3.534800   \n75%        647.000000   1725.000000    605.000000       4.743250   \nmax       6445.000000  35682.000000   6082.000000      15.000100   \n\n       median_house_value  \ncount        20640.000000  \nmean        206855.816909  \nstd         115395.615874  \nmin          14999.000000  \n25%         119600.000000  \n50%         179700.000000  \n75%         264725.000000  \nmax         500001.000000  ",
      "text/html": "<div>\n<style scoped>\n    .dataframe tbody tr th:only-of-type {\n        vertical-align: middle;\n    }\n\n    .dataframe tbody tr th {\n        vertical-align: top;\n    }\n\n    .dataframe thead th {\n        text-align: right;\n    }\n</style>\n<table border=\"1\" class=\"dataframe\">\n  <thead>\n    <tr style=\"text-align: right;\">\n      <th></th>\n      <th>longitude</th>\n      <th>latitude</th>\n      <th>housing_median_age</th>\n      <th>total_rooms</th>\n      <th>total_bedrooms</th>\n      <th>population</th>\n      <th>households</th>\n      <th>median_income</th>\n      <th>median_house_value</th>\n    </tr>\n  </thead>\n  <tbody>\n    <tr>\n      <th>count</th>\n      <td>20640.000000</td>\n      <td>20640.000000</td>\n      <td>20640.000000</td>\n      <td>20640.000000</td>\n      <td>20433.000000</td>\n      <td>20640.000000</td>\n      <td>20640.000000</td>\n      <td>20640.000000</td>\n      <td>20640.000000</td>\n    </tr>\n    <tr>\n      <th>mean</th>\n      <td>-119.569704</td>\n      <td>35.631861</td>\n      <td>28.639486</td>\n      <td>2635.763081</td>\n      <td>537.870553</td>\n      <td>1425.476744</td>\n      <td>499.539680</td>\n      <td>3.870671</td>\n      <td>206855.816909</td>\n    </tr>\n    <tr>\n      <th>std</th>\n      <td>2.003532</td>\n      <td>2.135952</td>\n      <td>12.585558</td>\n      <td>2181.615252</td>\n      <td>421.385070</td>\n      <td>1132.462122</td>\n      <td>382.329753</td>\n      <td>1.899822</td>\n      <td>115395.615874</td>\n    </tr>\n    <tr>\n      <th>min</th>\n      <td>-124.350000</td>\n      <td>32.540000</td>\n      <td>1.000000</td>\n      <td>2.000000</td>\n      <td>1.000000</td>\n      <td>3.000000</td>\n      <td>1.000000</td>\n      <td>0.499900</td>\n      <td>14999.000000</td>\n    </tr>\n    <tr>\n      <th>25%</th>\n      <td>-121.800000</td>\n      <td>33.930000</td>\n      <td>18.000000</td>\n      <td>1447.750000</td>\n      <td>296.000000</td>\n      <td>787.000000</td>\n      <td>280.000000</td>\n      <td>2.563400</td>\n      <td>119600.000000</td>\n    </tr>\n    <tr>\n      <th>50%</th>\n      <td>-118.490000</td>\n      <td>34.260000</td>\n      <td>29.000000</td>\n      <td>2127.000000</td>\n      <td>435.000000</td>\n      <td>1166.000000</td>\n      <td>409.000000</td>\n      <td>3.534800</td>\n      <td>179700.000000</td>\n    </tr>\n    <tr>\n      <th>75%</th>\n      <td>-118.010000</td>\n      <td>37.710000</td>\n      <td>37.000000</td>\n      <td>3148.000000</td>\n      <td>647.000000</td>\n      <td>1725.000000</td>\n      <td>605.000000</td>\n      <td>4.743250</td>\n      <td>264725.000000</td>\n    </tr>\n    <tr>\n      <th>max</th>\n      <td>-114.310000</td>\n      <td>41.950000</td>\n      <td>52.000000</td>\n      <td>39320.000000</td>\n      <td>6445.000000</td>\n      <td>35682.000000</td>\n      <td>6082.000000</td>\n      <td>15.000100</td>\n      <td>500001.000000</td>\n    </tr>\n  </tbody>\n</table>\n</div>"
     },
     "execution_count": 5,
     "metadata": {},
     "output_type": "execute_result"
    }
   ],
   "source": [
    "housing = load_housing_data()\n",
    "housing.describe()"
   ],
   "metadata": {
    "collapsed": false,
    "ExecuteTime": {
     "end_time": "2024-05-12T16:27:53.424150400Z",
     "start_time": "2024-05-12T16:27:53.264990100Z"
    }
   },
   "id": "8b36c7c4f07fe84b",
   "execution_count": 5
  },
  {
   "cell_type": "markdown",
   "source": [
    "### Разделение исходных данных на тренировочные и тестовые"
   ],
   "metadata": {
    "collapsed": false
   },
   "id": "c0926f1ab5f4e362"
  },
  {
   "cell_type": "code",
   "outputs": [
    {
     "name": "stderr",
     "output_type": "stream",
     "text": [
      "C:\\Users\\imsol\\AppData\\Local\\Temp\\ipykernel_1252\\64624547.py:4: FutureWarning: A value is trying to be set on a copy of a DataFrame or Series through chained assignment using an inplace method.\n",
      "The behavior will change in pandas 3.0. This inplace method will never work because the intermediate object on which we are setting values always behaves as a copy.\n",
      "\n",
      "For example, when doing 'df[col].method(value, inplace=True)', try using 'df.method({col: value}, inplace=True)' or df[col] = df[col].method(value) instead, to perform the operation inplace on the original object.\n",
      "\n",
      "\n",
      "  housing[\"income_cat\"].where(housing[\"income_cat\"] < 5, 5.0, inplace=True)\n"
     ]
    }
   ],
   "source": [
    "# Divide by 1.5 to limit the number of income categories\n",
    "housing[\"income_cat\"] = np.ceil(housing[\"median_income\"] / 1.5)\n",
    "# Label those above 5 as 5\n",
    "housing[\"income_cat\"].where(housing[\"income_cat\"] < 5, 5.0, inplace=True)\n",
    "\n",
    "from sklearn.model_selection import StratifiedShuffleSplit\n",
    "\n",
    "split = StratifiedShuffleSplit(n_splits=1, test_size=0.2, random_state=42)\n",
    "for train_index, test_index in split.split(housing, housing[\"income_cat\"]):\n",
    "    strat_train_set = housing.loc[train_index]\n",
    "    strat_test_set = housing.loc[test_index]"
   ],
   "metadata": {
    "collapsed": false,
    "ExecuteTime": {
     "end_time": "2024-05-12T16:27:53.899474300Z",
     "start_time": "2024-05-12T16:27:53.422198200Z"
    }
   },
   "id": "235ca7d05136b949",
   "execution_count": 6
  },
  {
   "cell_type": "markdown",
   "source": [
    "### Подготовка данных для использования в системе машинного обучения"
   ],
   "metadata": {
    "collapsed": false
   },
   "id": "8839d3edccd83fcc"
  },
  {
   "cell_type": "code",
   "outputs": [],
   "source": [
    "housing = strat_train_set.drop(\"median_house_value\", axis=1)  # drop labels for training set\n",
    "housing_labels = strat_train_set[\"median_house_value\"].copy()"
   ],
   "metadata": {
    "collapsed": false,
    "ExecuteTime": {
     "end_time": "2024-05-12T16:27:53.928433300Z",
     "start_time": "2024-05-12T16:27:53.924529400Z"
    }
   },
   "id": "f230d704702723fa",
   "execution_count": 7
  },
  {
   "cell_type": "code",
   "outputs": [
    {
     "name": "stdout",
     "output_type": "stream",
     "text": [
      "<class 'pandas.core.frame.DataFrame'>\n",
      "Index: 16512 entries, 12655 to 19773\n",
      "Data columns (total 9 columns):\n",
      " #   Column              Non-Null Count  Dtype  \n",
      "---  ------              --------------  -----  \n",
      " 0   longitude           16512 non-null  float64\n",
      " 1   latitude            16512 non-null  float64\n",
      " 2   housing_median_age  16512 non-null  float64\n",
      " 3   total_rooms         16512 non-null  float64\n",
      " 4   total_bedrooms      16512 non-null  float64\n",
      " 5   population          16512 non-null  float64\n",
      " 6   households          16512 non-null  float64\n",
      " 7   median_income       16512 non-null  float64\n",
      " 8   income_cat          16512 non-null  float64\n",
      "dtypes: float64(9)\n",
      "memory usage: 1.3 MB\n"
     ]
    },
    {
     "name": "stderr",
     "output_type": "stream",
     "text": [
      "C:\\Users\\imsol\\AppData\\Local\\Temp\\ipykernel_1252\\1067023247.py:4: FutureWarning: A value is trying to be set on a copy of a DataFrame or Series through chained assignment using an inplace method.\n",
      "The behavior will change in pandas 3.0. This inplace method will never work because the intermediate object on which we are setting values always behaves as a copy.\n",
      "\n",
      "For example, when doing 'df[col].method(value, inplace=True)', try using 'df.method({col: value}, inplace=True)' or df[col] = df[col].method(value) instead, to perform the operation inplace on the original object.\n",
      "\n",
      "\n",
      "  housing_num[\"total_bedrooms\"].fillna(median, inplace=True)\n"
     ]
    }
   ],
   "source": [
    "median = housing[\"total_bedrooms\"].median()\n",
    "\n",
    "housing_num = housing.drop('ocean_proximity', axis=1)\n",
    "housing_num[\"total_bedrooms\"].fillna(median, inplace=True)\n",
    "housing_num.info()"
   ],
   "metadata": {
    "collapsed": false,
    "ExecuteTime": {
     "end_time": "2024-05-12T16:27:54.029351500Z",
     "start_time": "2024-05-12T16:27:53.929411200Z"
    }
   },
   "id": "d6a9ed81facc52eb",
   "execution_count": 8
  },
  {
   "cell_type": "code",
   "outputs": [],
   "source": [
    "X = housing_num.values\n",
    "Y = housing_labels.values"
   ],
   "metadata": {
    "collapsed": false,
    "ExecuteTime": {
     "end_time": "2024-05-12T16:27:54.035212200Z",
     "start_time": "2024-05-12T16:27:54.028378400Z"
    }
   },
   "id": "2094fc40faa05f3f",
   "execution_count": 9
  },
  {
   "cell_type": "markdown",
   "source": [
    "## Выбор и тренировка модели"
   ],
   "metadata": {
    "collapsed": false
   },
   "id": "858dcfaa3eb15efe"
  },
  {
   "cell_type": "code",
   "outputs": [],
   "source": [
    "from sklearn.svm import SVR\n",
    "from scipy.stats import expon, reciprocal\n",
    "from sklearn.model_selection import GridSearchCV, RandomizedSearchCV\n",
    "from sklearn.metrics import mean_squared_error"
   ],
   "metadata": {
    "collapsed": false,
    "ExecuteTime": {
     "end_time": "2024-05-12T16:27:54.075246300Z",
     "start_time": "2024-05-12T16:27:54.033255600Z"
    }
   },
   "id": "cc4547b71d933e7",
   "execution_count": 10
  },
  {
   "cell_type": "markdown",
   "source": [
    "### Сеточный подбор гиперпараметров (GridSearchCV)"
   ],
   "metadata": {
    "collapsed": false
   },
   "id": "3058611a024863c2"
  },
  {
   "cell_type": "code",
   "outputs": [],
   "source": [
    "param_grid = [\n",
    "    {\n",
    "        'kernel': ['linear'],\n",
    "        'C': [10., 30., 100., 300., 1000., 3000., 10000., 30000.0]\n",
    "    },\n",
    "    {\n",
    "        'kernel': ['rbf'],\n",
    "        'C': [1.0, 3.0, 10., 30., 100., 300., 1000.0],\n",
    "        'gamma': [0.01, 0.03, 0.1, 0.3, 1.0, 3.0]\n",
    "    }\n",
    "]"
   ],
   "metadata": {
    "collapsed": false,
    "ExecuteTime": {
     "end_time": "2024-05-12T16:27:54.076225500Z",
     "start_time": "2024-05-12T16:27:54.069385600Z"
    }
   },
   "id": "60deedc44302e8fb",
   "execution_count": 11
  },
  {
   "cell_type": "code",
   "outputs": [],
   "source": [
    "svm_reg = SVR()\n",
    "grid_search = GridSearchCV(svm_reg, param_grid, cv=5, scoring='neg_mean_squared_error', return_train_score=True)\n",
    "grid_search.fit(housing_num, housing_labels)"
   ],
   "metadata": {
    "collapsed": false,
    "ExecuteTime": {
     "start_time": "2024-05-12T16:27:54.073294Z"
    }
   },
   "id": "7800a8e98e53d0d5"
  },
  {
   "cell_type": "code",
   "outputs": [],
   "source": [
    "grid_search.best_params_"
   ],
   "metadata": {
    "collapsed": false
   },
   "id": "7564e232b52e214"
  },
  {
   "cell_type": "code",
   "outputs": [],
   "source": [
    "# GridSearchCV mean squared error\n",
    "housing_predictions = svm_reg.predict(housing_num)\n",
    "svm_rmse = np.sqrt(mean_squared_error(housing_labels, housing_predictions))\n",
    "svm_rmse"
   ],
   "metadata": {
    "collapsed": false
   },
   "id": "9cebcf0474ea52f1"
  },
  {
   "cell_type": "markdown",
   "source": [
    "### Рандомизированный подбор гиперпараметров (RandomizedSearchCV)"
   ],
   "metadata": {
    "collapsed": false
   },
   "id": "a3bb501440f38642"
  },
  {
   "cell_type": "code",
   "outputs": [],
   "source": [
    "param_distribs = {\n",
    "    'kernel': ['linear', 'rbf'],\n",
    "    'C': reciprocal(20, 200000),\n",
    "    'gamma': expon(scale=1.0),\n",
    "}"
   ],
   "metadata": {
    "collapsed": false
   },
   "id": "7081179f5e681e75"
  },
  {
   "cell_type": "code",
   "outputs": [],
   "source": [
    "svm_reg = SVR()\n",
    "rnd_search = RandomizedSearchCV(svm_reg, param_distributions=param_distribs,\n",
    "                                n_iter=10, cv=5, scoring='neg_mean_squared_error', random_state=42)\n",
    "rnd_search.fit(housing_num, housing_labels)"
   ],
   "metadata": {
    "collapsed": false
   },
   "id": "6c67c37aec49d9f7"
  },
  {
   "cell_type": "code",
   "outputs": [],
   "source": [
    "rnd_search.best_params_"
   ],
   "metadata": {
    "collapsed": false
   },
   "id": "6134c12ad54665f5"
  },
  {
   "cell_type": "code",
   "outputs": [],
   "source": [
    "# RandomizedSearchCV mean squared error\n",
    "housing_predictions = svm_reg.predict(housing_num)\n",
    "svm_rmse = np.sqrt(mean_squared_error(housing_labels, housing_predictions))\n",
    "svm_rmse"
   ],
   "metadata": {
    "collapsed": false
   },
   "id": "7dc621a3d8f62bf2"
  }
 ],
 "metadata": {
  "kernelspec": {
   "display_name": "Python 3",
   "language": "python",
   "name": "python3"
  },
  "language_info": {
   "codemirror_mode": {
    "name": "ipython",
    "version": 2
   },
   "file_extension": ".py",
   "mimetype": "text/x-python",
   "name": "python",
   "nbconvert_exporter": "python",
   "pygments_lexer": "ipython2",
   "version": "2.7.6"
  }
 },
 "nbformat": 4,
 "nbformat_minor": 5
}
