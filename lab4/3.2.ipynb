{
 "cells": [
  {
   "cell_type": "markdown",
   "source": [
    "# Построение классификатора на базе данных IRIS"
   ],
   "metadata": {
    "collapsed": false
   },
   "id": "5612bf2b7568a626"
  },
  {
   "cell_type": "code",
   "outputs": [],
   "source": [
    "from sklearn.datasets import load_iris\n",
    "\n",
    "import sklearn.model_selection\n",
    "import tensorflow as tf"
   ],
   "metadata": {
    "collapsed": false,
    "ExecuteTime": {
     "end_time": "2024-05-13T16:31:11.933252500Z",
     "start_time": "2024-05-13T16:31:11.907906600Z"
    }
   },
   "id": "d79384eb51c4eed4",
   "execution_count": 81
  },
  {
   "cell_type": "markdown",
   "source": [
    "## Загрузка данных"
   ],
   "metadata": {
    "collapsed": false
   },
   "id": "7fa01d5fd202d3c9"
  },
  {
   "cell_type": "code",
   "outputs": [
    {
     "name": "stdout",
     "output_type": "stream",
     "text": [
      "(150, 4) (150,)\n"
     ]
    }
   ],
   "source": [
    "iris = load_iris()\n",
    "X = iris.data\n",
    "y = iris.target\n",
    "print(X.shape, y.shape)"
   ],
   "metadata": {
    "collapsed": false,
    "ExecuteTime": {
     "end_time": "2024-05-13T16:31:11.943988700Z",
     "start_time": "2024-05-13T16:31:11.936173Z"
    }
   },
   "id": "567693f0d3d2080c",
   "execution_count": 82
  },
  {
   "cell_type": "code",
   "outputs": [
    {
     "name": "stdout",
     "output_type": "stream",
     "text": [
      "(112, 4) (112,) (38, 4) (38,)\n"
     ]
    }
   ],
   "source": [
    "X_train, X_test, y_train, y_test = sklearn.model_selection.train_test_split(X, y)\n",
    "print(X_train.shape, y_train.shape, X_test.shape, y_test.shape)"
   ],
   "metadata": {
    "collapsed": false,
    "ExecuteTime": {
     "end_time": "2024-05-13T16:31:11.949845300Z",
     "start_time": "2024-05-13T16:31:11.944969200Z"
    }
   },
   "id": "14f5db1ec13b0499",
   "execution_count": 83
  },
  {
   "cell_type": "markdown",
   "source": [
    "## Параметры обучения"
   ],
   "metadata": {
    "collapsed": false
   },
   "id": "7f68d0ea96beec71"
  },
  {
   "cell_type": "code",
   "outputs": [],
   "source": [
    "tf.compat.v1.reset_default_graph()\n",
    "\n",
    "flowers = tf.feature_column.numeric_column('flower', (4,))\n",
    "\n",
    "batch_size_num = 5\n",
    "n_classes = 10\n",
    "feature_column = 'flower'"
   ],
   "metadata": {
    "collapsed": false,
    "ExecuteTime": {
     "end_time": "2024-05-13T16:31:11.952778600Z",
     "start_time": "2024-05-13T16:31:11.947894300Z"
    }
   },
   "id": "81ed61f2840f3599",
   "execution_count": 84
  },
  {
   "cell_type": "markdown",
   "source": [
    "## Модели"
   ],
   "metadata": {
    "collapsed": false
   },
   "id": "4187e15060c46808"
  },
  {
   "cell_type": "code",
   "outputs": [
    {
     "name": "stdout",
     "output_type": "stream",
     "text": [
      "INFO:tensorflow:Using default config.\n",
      "WARNING:tensorflow:Using temporary folder as model directory: C:\\Users\\imsol\\AppData\\Local\\Temp\\tmp4gxdh7n4\n",
      "INFO:tensorflow:Using config: {'_model_dir': 'C:\\\\Users\\\\imsol\\\\AppData\\\\Local\\\\Temp\\\\tmp4gxdh7n4', '_tf_random_seed': None, '_save_summary_steps': 100, '_save_checkpoints_steps': None, '_save_checkpoints_secs': 600, '_session_config': allow_soft_placement: true\n",
      "graph_options {\n",
      "  rewrite_options {\n",
      "    meta_optimizer_iterations: ONE\n",
      "  }\n",
      "}\n",
      ", '_keep_checkpoint_max': 5, '_keep_checkpoint_every_n_hours': 10000, '_log_step_count_steps': 100, '_train_distribute': None, '_device_fn': None, '_protocol': None, '_eval_distribute': None, '_experimental_distribute': None, '_experimental_max_worker_delay_secs': None, '_session_creation_timeout_secs': 7200, '_checkpoint_save_graph_def': True, '_service': None, '_cluster_spec': ClusterSpec({}), '_task_type': 'worker', '_task_id': 0, '_global_id_in_cluster': 0, '_master': '', '_evaluation_master': '', '_is_chief': True, '_num_ps_replicas': 0, '_num_worker_replicas': 1}\n",
      "INFO:tensorflow:Using default config.\n",
      "WARNING:tensorflow:Using temporary folder as model directory: C:\\Users\\imsol\\AppData\\Local\\Temp\\tmpkp5sxua8\n",
      "INFO:tensorflow:Using config: {'_model_dir': 'C:\\\\Users\\\\imsol\\\\AppData\\\\Local\\\\Temp\\\\tmpkp5sxua8', '_tf_random_seed': None, '_save_summary_steps': 100, '_save_checkpoints_steps': None, '_save_checkpoints_secs': 600, '_session_config': allow_soft_placement: true\n",
      "graph_options {\n",
      "  rewrite_options {\n",
      "    meta_optimizer_iterations: ONE\n",
      "  }\n",
      "}\n",
      ", '_keep_checkpoint_max': 5, '_keep_checkpoint_every_n_hours': 10000, '_log_step_count_steps': 100, '_train_distribute': None, '_device_fn': None, '_protocol': None, '_eval_distribute': None, '_experimental_distribute': None, '_experimental_max_worker_delay_secs': None, '_session_creation_timeout_secs': 7200, '_checkpoint_save_graph_def': True, '_service': None, '_cluster_spec': ClusterSpec({}), '_task_type': 'worker', '_task_id': 0, '_global_id_in_cluster': 0, '_master': '', '_evaluation_master': '', '_is_chief': True, '_num_ps_replicas': 0, '_num_worker_replicas': 1}\n"
     ]
    }
   ],
   "source": [
    "model_1 = tf.estimator.DNNClassifier(feature_columns=[flowers], n_classes=n_classes, hidden_units=[1024, 512, 256])\n",
    "model_2 = tf.estimator.DNNClassifier(feature_columns=[flowers], n_classes=n_classes, hidden_units=[300, 100])"
   ],
   "metadata": {
    "collapsed": false,
    "ExecuteTime": {
     "end_time": "2024-05-13T16:31:11.975235100Z",
     "start_time": "2024-05-13T16:31:11.955704100Z"
    }
   },
   "id": "4ceb638b6a97e0d0",
   "execution_count": 85
  },
  {
   "cell_type": "markdown",
   "source": [
    "## Вспомогательные функции"
   ],
   "metadata": {
    "collapsed": false
   },
   "id": "f3ffe772c5aed621"
  },
  {
   "cell_type": "code",
   "outputs": [],
   "source": [
    "def input_evaluation_set():\n",
    "    dataset = tf.data.Dataset.from_tensor_slices(({feature_column: X_train}, y_train.astype(int)))\n",
    "    return dataset.shuffle(batch_size_num).repeat().batch(batch_size_num)"
   ],
   "metadata": {
    "collapsed": false,
    "ExecuteTime": {
     "end_time": "2024-05-13T16:31:11.975235100Z",
     "start_time": "2024-05-13T16:31:11.964492800Z"
    }
   },
   "id": "ad54fd710beba2d2",
   "execution_count": 86
  },
  {
   "cell_type": "code",
   "outputs": [],
   "source": [
    "def eval_input_fn(features, labels, batch_size):\n",
    "    \"\"\"An input function for evaluation or prediction\"\"\"\n",
    "    features = dict(features)\n",
    "    if labels is None:\n",
    "        # No labels, use only features.\n",
    "        inputs = features\n",
    "    else:\n",
    "        inputs = (features, labels)\n",
    "\n",
    "    # Convert the inputs to a Dataset.\n",
    "    dataset = tf.data.Dataset.from_tensor_slices(inputs)\n",
    "\n",
    "    # Batch the examples\n",
    "    assert batch_size is not None, \"batch_size must not be None\"\n",
    "    dataset = dataset.batch(batch_size)\n",
    "\n",
    "    # Return the dataset.\n",
    "    return dataset"
   ],
   "metadata": {
    "collapsed": false,
    "ExecuteTime": {
     "end_time": "2024-05-13T16:31:11.976211100Z",
     "start_time": "2024-05-13T16:31:11.967433600Z"
    }
   },
   "id": "570f1520ccf2fe0a",
   "execution_count": 87
  },
  {
   "cell_type": "markdown",
   "source": [
    "## Обучение моделей"
   ],
   "metadata": {
    "collapsed": false
   },
   "id": "848b622b2d5b32f1"
  },
  {
   "cell_type": "code",
   "outputs": [
    {
     "name": "stdout",
     "output_type": "stream",
     "text": [
      "INFO:tensorflow:Calling model_fn.\n",
      "INFO:tensorflow:Done calling model_fn.\n",
      "INFO:tensorflow:Create CheckpointSaverHook.\n",
      "INFO:tensorflow:Graph was finalized.\n",
      "INFO:tensorflow:Running local_init_op.\n",
      "INFO:tensorflow:Done running local_init_op.\n",
      "INFO:tensorflow:Calling checkpoint listeners before saving checkpoint 0...\n",
      "INFO:tensorflow:Saving checkpoints for 0 into C:\\Users\\imsol\\AppData\\Local\\Temp\\tmp4gxdh7n4\\model.ckpt.\n",
      "INFO:tensorflow:Calling checkpoint listeners after saving checkpoint 0...\n",
      "INFO:tensorflow:loss = 2.0858655, step = 0\n",
      "INFO:tensorflow:global_step/sec: 682.713\n",
      "INFO:tensorflow:loss = 0.7967871, step = 100 (0.147 sec)\n",
      "INFO:tensorflow:global_step/sec: 806.352\n",
      "INFO:tensorflow:loss = 0.6464727, step = 200 (0.124 sec)\n",
      "INFO:tensorflow:global_step/sec: 777.476\n",
      "INFO:tensorflow:loss = 0.38555253, step = 300 (0.129 sec)\n",
      "INFO:tensorflow:global_step/sec: 726.283\n",
      "INFO:tensorflow:loss = 0.36815518, step = 400 (0.138 sec)\n",
      "INFO:tensorflow:global_step/sec: 994.229\n",
      "INFO:tensorflow:loss = 0.5574428, step = 500 (0.101 sec)\n",
      "INFO:tensorflow:global_step/sec: 898.311\n",
      "INFO:tensorflow:loss = 0.69109285, step = 600 (0.111 sec)\n",
      "INFO:tensorflow:global_step/sec: 819.227\n",
      "INFO:tensorflow:loss = 0.33923393, step = 700 (0.122 sec)\n",
      "INFO:tensorflow:global_step/sec: 885.195\n",
      "INFO:tensorflow:loss = 0.17543273, step = 800 (0.113 sec)\n",
      "INFO:tensorflow:global_step/sec: 922.389\n",
      "INFO:tensorflow:loss = 0.18443492, step = 900 (0.108 sec)\n",
      "INFO:tensorflow:Calling checkpoint listeners before saving checkpoint 1000...\n",
      "INFO:tensorflow:Saving checkpoints for 1000 into C:\\Users\\imsol\\AppData\\Local\\Temp\\tmp4gxdh7n4\\model.ckpt.\n",
      "INFO:tensorflow:Calling checkpoint listeners after saving checkpoint 1000...\n",
      "INFO:tensorflow:Loss for final step: 0.32409048.\n"
     ]
    },
    {
     "data": {
      "text/plain": "<tensorflow_estimator.python.estimator.canned.dnn.DNNClassifierV2 at 0x18d438e7cd0>"
     },
     "execution_count": 88,
     "metadata": {},
     "output_type": "execute_result"
    }
   ],
   "source": [
    "model_1.train(input_fn=input_evaluation_set, steps=1000)"
   ],
   "metadata": {
    "collapsed": false,
    "ExecuteTime": {
     "end_time": "2024-05-13T16:31:13.951750Z",
     "start_time": "2024-05-13T16:31:11.973283400Z"
    }
   },
   "id": "c72c9ec00ffff67d",
   "execution_count": 88
  },
  {
   "cell_type": "code",
   "outputs": [
    {
     "name": "stdout",
     "output_type": "stream",
     "text": [
      "INFO:tensorflow:Calling model_fn.\n",
      "INFO:tensorflow:Done calling model_fn.\n",
      "INFO:tensorflow:Create CheckpointSaverHook.\n",
      "INFO:tensorflow:Graph was finalized.\n",
      "INFO:tensorflow:Running local_init_op.\n",
      "INFO:tensorflow:Done running local_init_op.\n",
      "INFO:tensorflow:Calling checkpoint listeners before saving checkpoint 0...\n",
      "INFO:tensorflow:Saving checkpoints for 0 into C:\\Users\\imsol\\AppData\\Local\\Temp\\tmpkp5sxua8\\model.ckpt.\n",
      "INFO:tensorflow:Calling checkpoint listeners after saving checkpoint 0...\n",
      "INFO:tensorflow:loss = 2.7899423, step = 0\n",
      "INFO:tensorflow:global_step/sec: 1442.39\n",
      "INFO:tensorflow:loss = 0.9621269, step = 100 (0.070 sec)\n",
      "INFO:tensorflow:global_step/sec: 2497.77\n",
      "INFO:tensorflow:loss = 1.0354253, step = 200 (0.040 sec)\n",
      "INFO:tensorflow:global_step/sec: 2497.64\n",
      "INFO:tensorflow:loss = 0.8655852, step = 300 (0.040 sec)\n",
      "INFO:tensorflow:global_step/sec: 2560.22\n",
      "INFO:tensorflow:loss = 0.7277392, step = 400 (0.039 sec)\n",
      "INFO:tensorflow:global_step/sec: 2559.95\n",
      "INFO:tensorflow:loss = 0.61465156, step = 500 (0.039 sec)\n",
      "INFO:tensorflow:global_step/sec: 2517.44\n",
      "INFO:tensorflow:loss = 0.72190857, step = 600 (0.040 sec)\n",
      "INFO:tensorflow:global_step/sec: 2497.71\n",
      "INFO:tensorflow:loss = 0.43118706, step = 700 (0.040 sec)\n",
      "INFO:tensorflow:global_step/sec: 2497.75\n",
      "INFO:tensorflow:loss = 0.4702638, step = 800 (0.040 sec)\n",
      "INFO:tensorflow:global_step/sec: 2497.65\n",
      "INFO:tensorflow:loss = 0.4735588, step = 900 (0.040 sec)\n",
      "INFO:tensorflow:Calling checkpoint listeners before saving checkpoint 1000...\n",
      "INFO:tensorflow:Saving checkpoints for 1000 into C:\\Users\\imsol\\AppData\\Local\\Temp\\tmpkp5sxua8\\model.ckpt.\n",
      "INFO:tensorflow:Calling checkpoint listeners after saving checkpoint 1000...\n",
      "INFO:tensorflow:Loss for final step: 0.628731.\n"
     ]
    },
    {
     "data": {
      "text/plain": "<tensorflow_estimator.python.estimator.canned.dnn.DNNClassifierV2 at 0x18d3b83f5b0>"
     },
     "execution_count": 89,
     "metadata": {},
     "output_type": "execute_result"
    }
   ],
   "source": [
    "model_2.train(input_fn=input_evaluation_set, steps=1000)"
   ],
   "metadata": {
    "collapsed": false,
    "ExecuteTime": {
     "end_time": "2024-05-13T16:31:14.840906Z",
     "start_time": "2024-05-13T16:31:13.949795500Z"
    }
   },
   "id": "e80bc38ed09f8f9b",
   "execution_count": 89
  },
  {
   "cell_type": "markdown",
   "source": [
    "## Получение результатов оценки"
   ],
   "metadata": {
    "collapsed": false
   },
   "id": "edbe00172c16039a"
  },
  {
   "cell_type": "code",
   "outputs": [
    {
     "name": "stdout",
     "output_type": "stream",
     "text": [
      "INFO:tensorflow:Calling model_fn.\n",
      "INFO:tensorflow:Done calling model_fn.\n",
      "INFO:tensorflow:Starting evaluation at 2024-05-13T19:31:15\n",
      "INFO:tensorflow:Graph was finalized.\n",
      "INFO:tensorflow:Restoring parameters from C:\\Users\\imsol\\AppData\\Local\\Temp\\tmp4gxdh7n4\\model.ckpt-1000\n",
      "INFO:tensorflow:Running local_init_op.\n",
      "INFO:tensorflow:Done running local_init_op.\n",
      "INFO:tensorflow:Inference Time : 0.13478s\n",
      "INFO:tensorflow:Finished evaluation at 2024-05-13-19:31:15\n",
      "INFO:tensorflow:Saving dict for global step 1000: accuracy = 0.9736842, average_loss = 0.26503313, global_step = 1000, loss = 0.25730395\n",
      "INFO:tensorflow:Saving 'checkpoint_path' summary for global step 1000: C:\\Users\\imsol\\AppData\\Local\\Temp\\tmp4gxdh7n4\\model.ckpt-1000\n",
      "{'accuracy': 0.9736842, 'average_loss': 0.26503313, 'loss': 0.25730395, 'global_step': 1000}\n",
      "INFO:tensorflow:Calling model_fn.\n",
      "INFO:tensorflow:Done calling model_fn.\n",
      "INFO:tensorflow:Starting evaluation at 2024-05-13T19:31:15\n",
      "INFO:tensorflow:Graph was finalized.\n",
      "INFO:tensorflow:Restoring parameters from C:\\Users\\imsol\\AppData\\Local\\Temp\\tmpkp5sxua8\\model.ckpt-1000\n",
      "INFO:tensorflow:Running local_init_op.\n",
      "INFO:tensorflow:Done running local_init_op.\n",
      "INFO:tensorflow:Inference Time : 0.12788s\n",
      "INFO:tensorflow:Finished evaluation at 2024-05-13-19:31:15\n",
      "INFO:tensorflow:Saving dict for global step 1000: accuracy = 0.8947368, average_loss = 0.5103203, global_step = 1000, loss = 0.5019198\n",
      "INFO:tensorflow:Saving 'checkpoint_path' summary for global step 1000: C:\\Users\\imsol\\AppData\\Local\\Temp\\tmpkp5sxua8\\model.ckpt-1000\n",
      "{'accuracy': 0.8947368, 'average_loss': 0.5103203, 'loss': 0.5019198, 'global_step': 1000}\n"
     ]
    }
   ],
   "source": [
    "print(model_1.evaluate(input_fn=lambda: eval_input_fn({'flower': X_test}, y_test.astype(int), batch_size_num)))\n",
    "print(model_2.evaluate(input_fn=lambda: eval_input_fn({'flower': X_test}, y_test.astype(int), batch_size_num)))"
   ],
   "metadata": {
    "collapsed": false,
    "ExecuteTime": {
     "end_time": "2024-05-13T16:31:15.477020500Z",
     "start_time": "2024-05-13T16:31:14.839927700Z"
    }
   },
   "id": "fa19f680c7ecbc08",
   "execution_count": 90
  }
 ],
 "metadata": {
  "kernelspec": {
   "display_name": "Python 3",
   "language": "python",
   "name": "python3"
  },
  "language_info": {
   "codemirror_mode": {
    "name": "ipython",
    "version": 2
   },
   "file_extension": ".py",
   "mimetype": "text/x-python",
   "name": "python",
   "nbconvert_exporter": "python",
   "pygments_lexer": "ipython2",
   "version": "2.7.6"
  }
 },
 "nbformat": 4,
 "nbformat_minor": 5
}
